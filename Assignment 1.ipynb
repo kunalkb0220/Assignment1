{
 "cells": [
  {
   "cell_type": "code",
   "execution_count": null,
   "id": "06a26de8",
   "metadata": {},
   "outputs": [],
   "source": [
    "1.In the below elements which of them are values or an expression? eg:- values can be integer or string and expressions\n",
    "will be mathematical operators.\n",
    "\n",
    "* - (Multiplication) Mathematical Operator\n",
    "'hello' - String\n",
    "-87.8 - Float\n",
    "'-'  - (Subtraction) Mathematical Operator\n",
    "/    - (Division) Mathematical Operator\n",
    "+    - (Addition) Mathematical Operator\n",
    "'6'  - Integer"
   ]
  },
  {
   "cell_type": "code",
   "execution_count": null,
   "id": "19c9d964",
   "metadata": {},
   "outputs": [],
   "source": [
    "2. What is the difference between string and variable?\n",
    "\n",
    "Variable - Variables are symbols that you can use to store data in a program.\n",
    "\n",
    "String - Strings are data, so we can use them to fill up a variable.\n",
    "\n"
   ]
  },
  {
   "cell_type": "code",
   "execution_count": null,
   "id": "871058d2",
   "metadata": {},
   "outputs": [],
   "source": [
    "3. Describe three different data types.\n",
    "\n",
    "Integer - Numeric data type for numbers without fractions\n",
    "\n",
    "String - Sequence of characters, digits, or symbols—always treated as text\n",
    "\n",
    "Array - List with a number of elements in a specific order—typically of the same type\n"
   ]
  },
  {
   "cell_type": "code",
   "execution_count": null,
   "id": "da159c8d",
   "metadata": {},
   "outputs": [],
   "source": [
    "4. What is an expression made up of? What do all expressions do?\n",
    "\n",
    "Expression: An expression is a combination of operators, constants and variables. \n",
    "An expression may consist of one or more operands, and zero or more operators to produce a value.\n",
    "\n",
    "Expressions are representations of value. They are different from statement in the fact that \n",
    "statements do something while expressions are representation of value\n"
   ]
  },
  {
   "cell_type": "code",
   "execution_count": 6,
   "id": "9327d8b8",
   "metadata": {},
   "outputs": [],
   "source": [
    "5. This assignment statements, like spam = 10. What is the difference between an expression and a statement?\n",
    "\n",
    "spam = 10 (this is a statement)\n",
    "\n",
    "In programming language terminology, an “expression” is a combination of values and functions that are combined and interpreted\n",
    "by the compiler to create a new value, as opposed to a “statement” which is just a standalone unit of execution and \n",
    "doesn't return anything.\n"
   ]
  },
  {
   "cell_type": "code",
   "execution_count": null,
   "id": "a58a44c3",
   "metadata": {},
   "outputs": [],
   "source": [
    "6. After running the following code, what does the variable bacon contain?\n",
    "bacon = 22\n",
    "bacon + 1\n",
    "\n",
    "After running this code the output of this code will be 23 while the variable bacon will contain 22 as its value after \n",
    "running the code too.\n"
   ]
  },
  {
   "cell_type": "code",
   "execution_count": null,
   "id": "09e49839",
   "metadata": {},
   "outputs": [],
   "source": [
    "7.What should the values of the following two terms be?\n",
    "'spam' + 'spamspam'\n",
    "'spam' * 3\n",
    "\n",
    "The above two terms will give the same value i.e. 'spamspamspam'\n"
   ]
  },
  {
   "cell_type": "code",
   "execution_count": null,
   "id": "29808209",
   "metadata": {},
   "outputs": [],
   "source": [
    "8. Why is eggs a valid variable name while 100 is invalid?\n",
    "\n",
    "Variable names cannot begin with a number.(i.e 100 in our case)\n",
    "\n",
    "A variable name must start with a letter or the underscore character. A variable name cannot start with a number. \n",
    "A variable name can only contain alpha-numeric characters and underscores\n"
   ]
  },
  {
   "cell_type": "code",
   "execution_count": null,
   "id": "4fc38c62",
   "metadata": {},
   "outputs": [],
   "source": [
    "9. What three functions can be used to get the integer, floating-point number, or string version of a value?\n",
    "\n",
    "The int() , float() , and str( ) functions will evaluate to the integer, floating-point number, \n",
    "and string versions of the value passed to them.\n"
   ]
  },
  {
   "cell_type": "code",
   "execution_count": null,
   "id": "cca23e0e",
   "metadata": {},
   "outputs": [],
   "source": [
    "10. Why does this expression cause an error? How can you fix it?\n",
    "'I have eaten ' + 99 + ' burritos.'\n",
    "\n",
    "As the above code gives an error that we cannot add string and integer.\n",
    "we can solve this error by adding inverted commas to the 99 number and making it as a string."
   ]
  },
  {
   "cell_type": "code",
   "execution_count": 11,
   "id": "9f3f9d29",
   "metadata": {},
   "outputs": [
    {
     "data": {
      "text/plain": [
       "'I have eaten 99 burritos.'"
      ]
     },
     "execution_count": 11,
     "metadata": {},
     "output_type": "execute_result"
    }
   ],
   "source": [
    "'I have eaten ' + '99' + ' burritos.'\n"
   ]
  },
  {
   "cell_type": "code",
   "execution_count": null,
   "id": "f0945da4",
   "metadata": {},
   "outputs": [],
   "source": []
  }
 ],
 "metadata": {
  "kernelspec": {
   "display_name": "Python 3",
   "language": "python",
   "name": "python3"
  },
  "language_info": {
   "codemirror_mode": {
    "name": "ipython",
    "version": 3
   },
   "file_extension": ".py",
   "mimetype": "text/x-python",
   "name": "python",
   "nbconvert_exporter": "python",
   "pygments_lexer": "ipython3",
   "version": "3.8.8"
  }
 },
 "nbformat": 4,
 "nbformat_minor": 5
}
